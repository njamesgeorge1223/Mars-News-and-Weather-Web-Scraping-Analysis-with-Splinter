{
 "cells": [
  {
   "cell_type": "code",
   "execution_count": 1,
   "id": "d66537fc",
   "metadata": {},
   "outputs": [],
   "source": [
    "#*******************************************************************************************\n",
    " #\n",
    " #  File Name:  MarsNewsPy.ipynb\n",
    " #\n",
    " #  File Description:\n",
    " #      This interactive Python notebook, MarsNewsPy.ipynb, uses the Python modules,\n",
    " #      Splinter and Beautiful Soup to web scrape titles and previews from news articles \n",
    " #      in a Mars website.\n",
    " #\n",
    " #      The following command in Mac Terminal will suppress the warning/information \n",
    " #      message upon launch of the Google Chrome browser:\n",
    " #\n",
    " #      xattr -d com.apple.quarantine /usr/local/bin/chromedriver\n",
    " #\n",
    " #\n",
    " #  Date            Description                             Programmer\n",
    " #  ----------      ------------------------------------    ------------------\n",
    " #  09/13/2023      Initial Development                     N. James George\n",
    " #\n",
    " #******************************************************************************************/\n",
    "\n",
    "import PyLogFunctions as log_function\n",
    "import PyLogSubRoutines as log_subroutine\n",
    "\n",
    "import json\n",
    "    \n",
    "from bs4 import BeautifulSoup as soup\n",
    "from splinter import Browser"
   ]
  },
  {
   "cell_type": "code",
   "execution_count": 2,
   "id": "1576113b",
   "metadata": {},
   "outputs": [],
   "source": [
    "CONSTANT_LOCAL_FILE_NAME \\\n",
    "    = 'MarsNewsPy.ipynb'\n",
    "\n",
    "#CONSTANT_MARS_NEWS_URL \\\n",
    "#    = 'https://static.bc-edx.com/data/web/mars_news/index.html'\n",
    "\n",
    "CONSTANT_MARS_NEWS_URL \\\n",
    "    = 'https://mars.nasa.gov/news/'\n",
    "\n",
    "CONSTANT_MARS_NEWS_JSON_FILE \\\n",
    "    = './Resources/MarsNewsData.json'\n",
    "\n",
    "\n",
    "log_subroutine \\\n",
    "    .SetLogMode \\\n",
    "        (False)\n",
    "\n",
    "log_subroutine \\\n",
    "    .SetDebugMode \\\n",
    "        (False)\n",
    "\n",
    "log_subroutine \\\n",
    "    .SetImageMode \\\n",
    "        (False)\n",
    "\n",
    "\n",
    "log_subroutine \\\n",
    "    .BeginProgramExecution \\\n",
    "        ('MarsNewsPy')"
   ]
  },
  {
   "cell_type": "markdown",
   "id": "775589ce",
   "metadata": {},
   "source": [
    "# **Section 1: Visit the  [Mars News Website]('https://mars.nasa.gov/news/')**"
   ]
  },
  {
   "cell_type": "markdown",
   "id": "6a46c713",
   "metadata": {},
   "source": [
    "## **1.1: Splinter Web Driver**"
   ]
  },
  {
   "cell_type": "code",
   "execution_count": 3,
   "id": "aa0ac7ec",
   "metadata": {},
   "outputs": [],
   "source": [
    "chromeBrowserSplinterWebDriver \\\n",
    "    = Browser \\\n",
    "        ('chrome')\n",
    "\n",
    "\n",
    "log_function \\\n",
    "    .DebugReturnObjectWriteObject \\\n",
    "        (chromeBrowserSplinterWebDriver)"
   ]
  },
  {
   "cell_type": "markdown",
   "id": "59374c43",
   "metadata": {},
   "source": [
    "## **1.2: Automated Browsing with Splinter**"
   ]
  },
  {
   "cell_type": "code",
   "execution_count": 4,
   "id": "ff93bcf0",
   "metadata": {},
   "outputs": [],
   "source": [
    "chromeBrowserSplinterWebDriver \\\n",
    "    .visit \\\n",
    "        (CONSTANT_MARS_NEWS_URL)"
   ]
  },
  {
   "cell_type": "markdown",
   "id": "14580206",
   "metadata": {},
   "source": [
    "# **Section 2: Scrape the [Mars News Website]('https://mars.nasa.gov/news/')**"
   ]
  },
  {
   "cell_type": "markdown",
   "id": "d6fd4178",
   "metadata": {},
   "source": [
    "## **2.1: Scrape HTML to String**"
   ]
  },
  {
   "cell_type": "code",
   "execution_count": 5,
   "id": "f97c09ef",
   "metadata": {},
   "outputs": [],
   "source": [
    "webPageHTMLStringVariable \\\n",
    "    = chromeBrowserSplinterWebDriver \\\n",
    "        .html\n",
    "\n",
    "\n",
    "log_function \\\n",
    "    .DebugReturnObjectWriteObject \\\n",
    "        (webPageHTMLStringVariable)"
   ]
  },
  {
   "cell_type": "markdown",
   "id": "909d5490",
   "metadata": {},
   "source": [
    "## **2.2: Beautiful Soup Object**"
   ]
  },
  {
   "cell_type": "code",
   "execution_count": 6,
   "id": "f1d5336e",
   "metadata": {},
   "outputs": [],
   "source": [
    "marsNewsBeautifulSoupObject \\\n",
    "    = soup \\\n",
    "        (webPageHTMLStringVariable, \n",
    "         'html.parser')\n",
    "\n",
    "\n",
    "log_function \\\n",
    "    .DebugReturnObjectWriteObject \\\n",
    "        (marsNewsBeautifulSoupObject)"
   ]
  },
  {
   "cell_type": "markdown",
   "id": "001d637b",
   "metadata": {},
   "source": [
    "## **2.3: Text Element Retrieval**"
   ]
  },
  {
   "cell_type": "code",
   "execution_count": 7,
   "id": "3e21bc1f",
   "metadata": {},
   "outputs": [],
   "source": [
    "textElementsBSResultSetObject \\\n",
    "    = marsNewsBeautifulSoupObject \\\n",
    "        .find_all \\\n",
    "            ('div', \n",
    "              class_ \\\n",
    "                 = 'list_text')\n",
    "\n",
    "\n",
    "log_function \\\n",
    "    .DebugReturnObjectWriteObject \\\n",
    "        (textElementsBSResultSetObject)"
   ]
  },
  {
   "cell_type": "markdown",
   "id": "fdf7167a",
   "metadata": {},
   "source": [
    "# **Section 3: Store the Results**"
   ]
  },
  {
   "cell_type": "markdown",
   "id": "e7f768e4",
   "metadata": {},
   "source": [
    "## **3.1: Text Extraction and Storage in Dictionary List**"
   ]
  },
  {
   "cell_type": "code",
   "execution_count": 8,
   "id": "baa3c7c0",
   "metadata": {},
   "outputs": [],
   "source": [
    "# This line of code creates an empty List to store the Dictionaries \n",
    "# holding title and preview text.\n",
    "marsNewsDictionaryList \\\n",
    "    = []\n",
    "\n",
    "\n",
    "# This repetition loop moves through all the elements in the webpage's HTML.\n",
    "for htmlElement in textElementsBSResultSetObject:\n",
    "\n",
    "    # These lines of code extract the title and preview text \n",
    "    # from the HTML elements.\n",
    "    titleStringVariable \\\n",
    "        = htmlElement \\\n",
    "            .find \\\n",
    "                ('div',\n",
    "                 class_ = 'content_title') \\\n",
    "            .text\n",
    "    \n",
    "    previewStringVariable \\\n",
    "        = htmlElement \\\n",
    "            .find \\\n",
    "                ('div', \n",
    "                 class_ = 'article_teaser_body') \\\n",
    "            .text\n",
    "    \n",
    "    \n",
    "    # This line of code stores each title and preview in the temporary \n",
    "    # Dictionary.\n",
    "    marsNewsDictionary \\\n",
    "        = {'Title': titleStringVariable,\n",
    "           'Preview': previewStringVariable}\n",
    "    \n",
    "    # This line of code appends the Dictionary to the List of Dictionaries.\n",
    "    marsNewsDictionaryList \\\n",
    "        .append \\\n",
    "            (marsNewsDictionary)\n",
    "    \n",
    "    \n",
    "log_function \\\n",
    "    .DebugReturnObjectWriteObject \\\n",
    "        (marsNewsDictionaryList)"
   ]
  },
  {
   "cell_type": "markdown",
   "id": "be04fc57",
   "metadata": {},
   "source": [
    "## **3.2: Display Dictionary List**"
   ]
  },
  {
   "cell_type": "code",
   "execution_count": 9,
   "id": "cea97de4",
   "metadata": {},
   "outputs": [],
   "source": [
    "for index, marsNewsDictionary in enumerate(marsNewsDictionaryList):\n",
    "    log_subroutine \\\n",
    "        .PrintAndLogWriteText \\\n",
    "            (f'NEWS ARTICLE #{index + 1}:\\n'\n",
    "             + f\"TITLE: {marsNewsDictionary['Title']}\\n\" \\\n",
    "             + f\"PREVIEW: {marsNewsDictionary['Preview']}\\n\")"
   ]
  },
  {
   "cell_type": "markdown",
   "id": "34a5acc6",
   "metadata": {},
   "source": [
    "# **Section 4: Save the Data**"
   ]
  },
  {
   "cell_type": "markdown",
   "id": "1d545e0c",
   "metadata": {},
   "source": [
    "## **4.1: Export Dictionary List to JSON file**"
   ]
  },
  {
   "cell_type": "code",
   "execution_count": 10,
   "id": "96cbc1f6",
   "metadata": {},
   "outputs": [],
   "source": [
    "with open(CONSTANT_MARS_NEWS_JSON_FILE, 'w') as jsonFile:\n",
    "    \n",
    "    for dictionary in marsNewsDictionaryList:\n",
    "        \n",
    "        jsonDataString \\\n",
    "            = json \\\n",
    "                .dumps \\\n",
    "                    (dictionary)\n",
    "        \n",
    "        jsonFile \\\n",
    "            .write \\\n",
    "                (jsonDataString)\n",
    "        \n",
    "        \n",
    "    jsonFile \\\n",
    "        .close()"
   ]
  },
  {
   "cell_type": "markdown",
   "id": "c0fd594a",
   "metadata": {},
   "source": [
    "## **4.2: Close Browser**"
   ]
  },
  {
   "cell_type": "code",
   "execution_count": 11,
   "id": "e4d265e2",
   "metadata": {},
   "outputs": [],
   "source": [
    "chromeBrowserSplinterWebDriver \\\n",
    "    .quit()"
   ]
  },
  {
   "cell_type": "code",
   "execution_count": 12,
   "id": "25b36d53",
   "metadata": {},
   "outputs": [],
   "source": [
    "#log_subroutine \\\n",
    "#    .EndProgramExecution()"
   ]
  }
 ],
 "metadata": {
  "kernelspec": {
   "display_name": "Python 3 (ipykernel)",
   "language": "python",
   "name": "python3"
  },
  "language_info": {
   "codemirror_mode": {
    "name": "ipython",
    "version": 3
   },
   "file_extension": ".py",
   "mimetype": "text/x-python",
   "name": "python",
   "nbconvert_exporter": "python",
   "pygments_lexer": "ipython3",
   "version": "3.11.4"
  }
 },
 "nbformat": 4,
 "nbformat_minor": 5
}
