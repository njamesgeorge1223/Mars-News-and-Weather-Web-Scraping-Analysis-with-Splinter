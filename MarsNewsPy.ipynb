{
 "cells": [
  {
   "cell_type": "code",
   "execution_count": 1,
   "id": "d66537fc",
   "metadata": {},
   "outputs": [],
   "source": [
    "#*******************************************************************************************\n",
    " #\n",
    " #  File Name:  MarsNewsPy.ipynb\n",
    " #\n",
    " #  File Description:\n",
    " #      This interactive Python notebook, MarsNewsPy.ipynb, uses the Python modules,\n",
    " #      Splinter and Beautiful Soup to web scrape titles and previews from news articles \n",
    " #      in a Mars website.\n",
    " #\n",
    " #      The following command in Mac Terminal will suppress the warning/information \n",
    " #      message upon launch of the Google Chrome browser:\n",
    " #\n",
    " #      xattr -d com.apple.quarantine /usr/local/bin/chromedriver\n",
    " #\n",
    " #\n",
    " #  Date            Description                             Programmer\n",
    " #  ----------      ------------------------------------    ------------------\n",
    " #  09/13/2023      Initial Development                     N. James George\n",
    " #\n",
    " #******************************************************************************************/\n",
    "\n",
    "import PyLogFunctions as log_function\n",
    "import PyLogSubRoutines as log_subroutine\n",
    "\n",
    "import json\n",
    "    \n",
    "from bs4 import BeautifulSoup as soup\n",
    "from splinter import Browser"
   ]
  },
  {
   "cell_type": "code",
   "execution_count": 2,
   "id": "1576113b",
   "metadata": {},
   "outputs": [],
   "source": [
    "CONSTANT_LOCAL_FILE_NAME \\\n",
    "    = 'MarsNewsPy.ipynb'\n",
    "\n",
    "#CONSTANT_MARS_NEWS_URL \\\n",
    "#    = 'https://static.bc-edx.com/data/web/mars_news/index.html'\n",
    "\n",
    "CONSTANT_MARS_NEWS_URL \\\n",
    "    = 'https://mars.nasa.gov/news/'\n",
    "\n",
    "CONSTANT_MARS_NEWS_JSON_FILE \\\n",
    "    = './Resources/MarsNewsData.json'\n",
    "\n",
    "\n",
    "log_subroutine \\\n",
    "    .SetLogMode \\\n",
    "        (False)\n",
    "\n",
    "log_subroutine \\\n",
    "    .SetDebugMode \\\n",
    "        (False)\n",
    "\n",
    "log_subroutine \\\n",
    "    .SetImageMode \\\n",
    "        (False)\n",
    "\n",
    "\n",
    "log_subroutine \\\n",
    "    .BeginProgramExecution \\\n",
    "        ('MarsNewsPy')"
   ]
  },
  {
   "cell_type": "markdown",
   "id": "775589ce",
   "metadata": {},
   "source": [
    "# **Section 1: Visit the  [Mars News Website](https://static.bc-edx.com/data/web/mars_news/index.html)**"
   ]
  },
  {
   "cell_type": "markdown",
   "id": "6a46c713",
   "metadata": {},
   "source": [
    "## **Splinter Web Driver**"
   ]
  },
  {
   "cell_type": "code",
   "execution_count": 3,
   "id": "aa0ac7ec",
   "metadata": {},
   "outputs": [],
   "source": [
    "chromeBrowserSplinterWebDriver \\\n",
    "    = Browser \\\n",
    "        ('chrome')\n",
    "\n",
    "\n",
    "log_function \\\n",
    "    .DebugReturnObjectWriteObject \\\n",
    "        (chromeBrowserSplinterWebDriver)"
   ]
  },
  {
   "cell_type": "markdown",
   "id": "59374c43",
   "metadata": {},
   "source": [
    "## **Automated Browsing with Splinter**"
   ]
  },
  {
   "cell_type": "code",
   "execution_count": 4,
   "id": "ff93bcf0",
   "metadata": {},
   "outputs": [],
   "source": [
    "chromeBrowserSplinterWebDriver \\\n",
    "    .visit \\\n",
    "        (CONSTANT_MARS_NEWS_URL)"
   ]
  },
  {
   "cell_type": "markdown",
   "id": "14580206",
   "metadata": {},
   "source": [
    "# **Section 2: Scrape the [Mars News Website](https://static.bc-edx.com/data/web/mars_news/index.html)**"
   ]
  },
  {
   "cell_type": "markdown",
   "id": "d6fd4178",
   "metadata": {},
   "source": [
    "## **Scrape HTML to String**"
   ]
  },
  {
   "cell_type": "code",
   "execution_count": 5,
   "id": "f97c09ef",
   "metadata": {},
   "outputs": [],
   "source": [
    "webPageHTMLStringVariable \\\n",
    "    = chromeBrowserSplinterWebDriver \\\n",
    "        .html\n",
    "\n",
    "\n",
    "log_function \\\n",
    "    .DebugReturnObjectWriteObject \\\n",
    "        (webPageHTMLStringVariable)"
   ]
  },
  {
   "cell_type": "markdown",
   "id": "909d5490",
   "metadata": {},
   "source": [
    "## **Beautiful Soup Object**"
   ]
  },
  {
   "cell_type": "code",
   "execution_count": 6,
   "id": "f1d5336e",
   "metadata": {},
   "outputs": [],
   "source": [
    "marsNewsBeautifulSoupObject \\\n",
    "    = soup \\\n",
    "        (webPageHTMLStringVariable, \n",
    "         'html.parser')\n",
    "\n",
    "\n",
    "log_function \\\n",
    "    .DebugReturnObjectWriteObject \\\n",
    "        (marsNewsBeautifulSoupObject)"
   ]
  },
  {
   "cell_type": "markdown",
   "id": "001d637b",
   "metadata": {},
   "source": [
    "## **Text Element Retrieval**"
   ]
  },
  {
   "cell_type": "code",
   "execution_count": 7,
   "id": "3e21bc1f",
   "metadata": {},
   "outputs": [],
   "source": [
    "textElementsBSResultSetObject \\\n",
    "    = marsNewsBeautifulSoupObject \\\n",
    "        .find_all \\\n",
    "            ('div', \n",
    "              class_ \\\n",
    "                 = 'list_text')\n",
    "\n",
    "\n",
    "log_function \\\n",
    "    .DebugReturnObjectWriteObject \\\n",
    "        (textElementsBSResultSetObject)"
   ]
  },
  {
   "cell_type": "markdown",
   "id": "fdf7167a",
   "metadata": {},
   "source": [
    "# **Section 2: Store the Results**"
   ]
  },
  {
   "cell_type": "markdown",
   "id": "e7f768e4",
   "metadata": {},
   "source": [
    "## **Text Extraction and Storage in Dictionary List**"
   ]
  },
  {
   "cell_type": "code",
   "execution_count": 8,
   "id": "baa3c7c0",
   "metadata": {},
   "outputs": [],
   "source": [
    "# This line of code creates an empty List to store the Dictionaries \n",
    "# holding title and preview text.\n",
    "marsNewsDictionaryList \\\n",
    "    = []\n",
    "\n",
    "\n",
    "# This repetition loop moves through all the elements in the webpage's HTML.\n",
    "for htmlElement in textElementsBSResultSetObject:\n",
    "\n",
    "    # These lines of code extract the title and preview text \n",
    "    # from the HTML elements.\n",
    "    titleStringVariable \\\n",
    "        = htmlElement \\\n",
    "            .find \\\n",
    "                ('div',\n",
    "                 class_ = 'content_title') \\\n",
    "            .text\n",
    "    \n",
    "    previewStringVariable \\\n",
    "        = htmlElement \\\n",
    "            .find \\\n",
    "                ('div', \n",
    "                 class_ = 'article_teaser_body') \\\n",
    "            .text\n",
    "    \n",
    "    \n",
    "    # This line of code stores each title and preview in the temporary \n",
    "    # Dictionary.\n",
    "    marsNewsDictionary \\\n",
    "        = {'Title': titleStringVariable,\n",
    "           'Preview': previewStringVariable}\n",
    "    \n",
    "    # This line of code appends the Dictionary to the List of Dictionaries.\n",
    "    marsNewsDictionaryList \\\n",
    "        .append \\\n",
    "            (marsNewsDictionary)\n",
    "    \n",
    "    \n",
    "log_function \\\n",
    "    .DebugReturnObjectWriteObject \\\n",
    "        (marsNewsDictionaryList)"
   ]
  },
  {
   "cell_type": "markdown",
   "id": "be04fc57",
   "metadata": {},
   "source": [
    "## **Display Dictionary List**"
   ]
  },
  {
   "cell_type": "code",
   "execution_count": 9,
   "id": "cea97de4",
   "metadata": {},
   "outputs": [
    {
     "name": "stdout",
     "output_type": "stream",
     "text": [
      "NEWS ARTICLE #1:\n",
      "TITLE: NASA's Perseverance Captures Dust-Filled Martian Whirlwind \n",
      "PREVIEW: The six-wheeled geologist spotted the twister as part of an atmospheric exploration of Jezero Crater.\n",
      "\n",
      "NEWS ARTICLE #2:\n",
      "TITLE: Historic Wind Tunnel Facility Testing NASA's Mars Ascent Vehicle Rocket\n",
      "PREVIEW: The same facility that provided valuable testing for NASA missions to low-Earth orbit and the Moon is now helping the agency prepare to launch the first rocket from Mars.\r\n",
      "\n",
      "\n",
      "NEWS ARTICLE #3:\n",
      "TITLE: NASA Releases Independent Review's Mars Sample Return Report\n",
      "PREVIEW: The agency established the board in May 2023 to evaluate the technical, cost, and schedule plans prior to confirmation of the mission’s design.\n",
      "\n",
      "NEWS ARTICLE #4:\n",
      "TITLE: Autonomous Systems Help NASA's Perseverance Do More Science on Mars\n",
      "PREVIEW: A computer pilot helps NASA’s six-wheeled geologist as it searches for rock samples that could be brought to Earth for deeper investigation.\n",
      "\n",
      "NEWS ARTICLE #5:\n",
      "TITLE: NASA's Curiosity Reaches Mars Ridge Where Water Left Debris Pileup\n",
      "PREVIEW: Believed to be a remnant of powerful ancient debris flows, Gediz Vallis Ridge is a destination long sought by the rover’s science team.\n",
      "\n",
      "NEWS ARTICLE #6:\n",
      "TITLE: NASA's Oxygen-Generating Experiment MOXIE Completes Mars Mission\n",
      "PREVIEW: Riding with the Perseverance rover, the instrument has proved to be a viable technology for astronauts on Mars to produce oxygen for fuel and breathing.\n",
      "\n",
      "NEWS ARTICLE #7:\n",
      "TITLE: NASA, Partners Study Ancient Life in Australia to Inform Mars Search\n",
      "PREVIEW: NASA is working with its international partners to study the ancient Earth as it relates to Mars\r\n",
      "\r\n",
      "\n",
      "\n",
      "NEWS ARTICLE #8:\n",
      "TITLE: Watch NASA Engineers Put a Mars Lander's Legs to the Test\n",
      "PREVIEW: Sturdy legs are needed to absorb the impact of the heaviest spacecraft to ever touch down on the Red Planet.\n",
      "\n",
      "NEWS ARTICLE #9:\n",
      "TITLE: Cracks in Ancient Martian Mud Surprise NASA's Curiosity Rover Team\n",
      "PREVIEW: A new paper suggests the same conditions that created the cracks could have been favorable to the emergence of microscopic life.\n",
      "\n",
      "NEWS ARTICLE #10:\n",
      "TITLE: NASA's Ingenuity Mars Helicopter Flies Again After Unscheduled Landing\n",
      "PREVIEW: The helicopter performed a short hop to help the team better understand why its previous flight was interrupted.\n",
      "\n",
      "NEWS ARTICLE #11:\n",
      "TITLE: NASA InSight Study Finds Mars Is Spinning Faster\n",
      "PREVIEW: Data sent by the spacecraft before it retired last December has provided new details about how fast the planet fast rotates and how much it wobbles.\n",
      "\n",
      "NEWS ARTICLE #12:\n",
      "TITLE: NASA's Curiosity Rover Faces Its Toughest Climb Yet on Mars\n",
      "PREVIEW: Shortly before the rover’s 11th anniversary on the Red Planet, its team helped guide it up a steep, slippery slope to examine meteor craters.\n",
      "\n",
      "NEWS ARTICLE #13:\n",
      "TITLE: NASA Mars Ascent Vehicle Continues Progress Toward Mars Sample Return\n",
      "PREVIEW: The first rocket launch from the surface of another planet will be accomplished using two solid rocket motors.\n",
      "\n",
      "NEWS ARTICLE #14:\n",
      "TITLE: NASA's Perseverance Rover Sees Mars in a New Light\n",
      "PREVIEW: A cutting-edge instrument called SHERLOC, which hunts for molecules potentially related to ancient life, played a key role in a recent study.\n",
      "\n",
      "NEWS ARTICLE #15:\n",
      "TITLE: Ancient River Is Helping NASA's Perseverance Mars Rover Do Its Work\n",
      "PREVIEW: The six-wheeled geologist is getting some assistance in its in search for diverse rock samples that could be brought to Earth for deeper investigation.\n",
      "\n",
      "NEWS ARTICLE #16:\n",
      "TITLE: NASA's Ingenuity Mars Helicopter Phones Home\n",
      "PREVIEW: The intrepid rotorcraft may head skyward again within the week.\n",
      "\n",
      "NEWS ARTICLE #17:\n",
      "TITLE: NASA's MAVEN Spacecraft Stuns with Ultraviolet Views of Red Planet\n",
      "PREVIEW: NASA’s MAVEN (Mars Atmosphere and Volatile EvolutioN) mission acquired stunning views of Mars in two ultraviolet images taken at different points along our neighboring planet’s orbit around the Sun.\r\n",
      "\r\n",
      "\n",
      "\n",
      "NEWS ARTICLE #18:\n",
      "TITLE: Landing in Living Rooms: LEGO Models of NASA Mars Rover and Helicopter\n",
      "PREVIEW: A new STEM-themed kit developed in cooperation with NASA-JPL is designed to spark kids’ interest in engineering and space via traditional toys and augmented reality.\n",
      "\n",
      "NEWS ARTICLE #19:\n",
      "TITLE: NASA's Curiosity Captures Martian Morning, Afternoon in New 'Postcard'\n",
      "PREVIEW: Lighting from two times of day was combined for a stunning view of terrain that the rover is leaving behind.\n",
      "\n",
      "NEWS ARTICLE #20:\n",
      "TITLE: Why – and How – NASA Gives a Name to Every Spot It Studies on Mars\n",
      "PREVIEW: Martian maps are full of monikers recognizing places on Earth, explorers, and even cartoon characters. \n",
      "\n",
      "NEWS ARTICLE #21:\n",
      "TITLE: NASA's Perseverance Rover Captures View of Mars' Belva Crater\n",
      "PREVIEW: The six-wheeled scientist encountered the crater during its latest science campaign in search of rock samples that could be brought to Earth for deeper investigation.\n",
      "\n",
      "NEWS ARTICLE #22:\n",
      "TITLE: Images From NASA's Perseverance May Show Record of Wild Martian River\n",
      "PREVIEW: Evidence left in rocks is leading scientists to rethink what watery environments looked like on ancient Mars.\n",
      "\n",
      "NEWS ARTICLE #23:\n",
      "TITLE: NASA Retires Mineral Mapping Instrument on Mars Orbiter\n",
      "PREVIEW: One of six instruments aboard the agency’s Mars Reconnaissance Orbiter, CRISM produced global maps of minerals on the Red Planet’s surface.\n",
      "\n",
      "NEWS ARTICLE #24:\n",
      "TITLE: NASA InSight Study Provides Clearest Look Ever at Martian Core\n",
      "PREVIEW: A pair of quakes in 2021 sent seismic waves deep into the Red Planet’s core, giving scientists the best data yet on its size and composition. \n",
      "\n",
      "NEWS ARTICLE #25:\n",
      "TITLE: NASA Selects 10 Scientists for International Mission to Martian Moons \n",
      "PREVIEW: JPL’s Abigail Fraeman will help study the composition of Phobos and Deimos using instruments on the Japan Aerospace Exploration Agency’s spacecraft.\r\n",
      "\r\n",
      "\n",
      "\n",
      "NEWS ARTICLE #26:\n",
      "TITLE: NASA's Ingenuity Mars Helicopter Completes 50th Flight\n",
      "PREVIEW: The history-making rotorcraft has recently been negotiating some of the most hazardous terrain it’s encountered on the Red Planet. \n",
      "\n",
      "NEWS ARTICLE #27:\n",
      "TITLE: NASA's Curiosity Mars Rover Gets a Major Software Upgrade\n",
      "PREVIEW: The update brings loads of improvements, the most significant being new driving capabilities.\r\n",
      "\n",
      "\n",
      "NEWS ARTICLE #28:\n",
      "TITLE: NASA to Convene Mars Sample Return Review\n",
      "PREVIEW: The board, initiated by NASA, will provide added confidence that the program won’t exceed guidelines following an important upcoming milestone. \n",
      "\n",
      "NEWS ARTICLE #29:\n",
      "TITLE: New Interactive Mosaic Uses NASA Imagery to Show Mars in Vivid Detail\n",
      "PREVIEW: Both scientists and the public can navigate a new global image of the Red Planet that was made at Caltech using data from NASA’s Mars Reconnaissance Orbiter.\n",
      "\n",
      "NEWS ARTICLE #30:\n",
      "TITLE: NASA's Perseverance Collects First Mars Sample of New Science Campaign\n",
      "PREVIEW: The rover continues its hunt for rocks worthy of bringing to Earth for further study.\n",
      "\n",
      "NEWS ARTICLE #31:\n",
      "TITLE: Engineers Keep an Eye on Fuel Supply of NASA's Oldest Mars Orbiter\n",
      "PREVIEW: Measuring the fuel supply on a decades-old spacecraft without a fuel gauge is no easy task. \n",
      "\n",
      "NEWS ARTICLE #32:\n",
      "TITLE: NASA's Curiosity Views First 'Sun Rays' on Mars\n",
      "PREVIEW: The veteran rover captured a dazzling sunset at the start of a new cloud-imaging campaign.\n",
      "\n",
      "NEWS ARTICLE #33:\n",
      "TITLE: NASA's Perseverance Rover Set to Begin Third Year at Jezero Crater\n",
      "PREVIEW: After completing the first sample depot on another world, the rover continues its hunt for Mars rocks worthy of study on Earth.\n",
      "\n",
      "NEWS ARTICLE #34:\n",
      "TITLE: NASA's Perseverance Rover Shows Off Collection of Mars Samples\n",
      "PREVIEW: The Red Planet rover snapped a portrait of the sample depot it has assembled with 10 backup sample tubes that could be returned to Earth by a future mission.\n",
      "\n",
      "NEWS ARTICLE #35:\n",
      "TITLE: NASA's Curiosity Finds Surprise Clues to Mars' Watery Past\n",
      "PREVIEW: Among other discoveries made by the rover, rippled rock textures suggest lakes existed in a region of ancient Mars that scientists expected to be drier. \n",
      "\n",
      "NEWS ARTICLE #36:\n",
      "TITLE: NASA's Perseverance Rover Completes Mars Sample Depot\n",
      "PREVIEW: Ten sample tubes, capturing an amazing variety of Martian geology, have been deposited on Mars’ surface so they could be studied on Earth in the future.\n",
      "\n",
      "NEWS ARTICLE #37:\n",
      "TITLE: NASA Explores a Winter Wonderland on Mars\n",
      "PREVIEW: Cube-shaped snow, icy landscapes, and frost are all part of the Red Planet’s coldest season.\n",
      "\n",
      "NEWS ARTICLE #38:\n",
      "TITLE: NASA's Perseverance Rover Deposits First Sample on Mars Surface \n",
      "PREVIEW: Filled with rock, the sample tube will be one of 10 forming a depot of tubes that could be considered for a journey to Earth by the Mars Sample Return campaign.\n",
      "\n",
      "NEWS ARTICLE #39:\n",
      "TITLE: NASA Retires InSight Mars Lander Mission After Years of Science\n",
      "PREVIEW: The mission has concluded that the solar-powered lander has run out of energy after more than four years on the Red Planet.\n",
      "\n",
      "NEWS ARTICLE #40:\n",
      "TITLE: NASA's Perseverance Rover to Begin Building Martian Sample Depot\n",
      "PREVIEW: The 10 sample tubes being dropped on Mars’ surface so they can be studied on Earth in the future carry an amazing diversity of Red Planet geology.\n",
      "\n"
     ]
    }
   ],
   "source": [
    "for index, marsNewsDictionary in enumerate(marsNewsDictionaryList):\n",
    "    log_subroutine \\\n",
    "        .PrintAndLogWriteText \\\n",
    "            (f'NEWS ARTICLE #{index + 1}:\\n'\n",
    "             + f\"TITLE: {marsNewsDictionary['Title']}\\n\" \\\n",
    "             + f\"PREVIEW: {marsNewsDictionary['Preview']}\\n\")"
   ]
  },
  {
   "cell_type": "markdown",
   "id": "34a5acc6",
   "metadata": {},
   "source": [
    "# **Section 3: Save the Data**"
   ]
  },
  {
   "cell_type": "markdown",
   "id": "1d545e0c",
   "metadata": {},
   "source": [
    "## **Export Dictionary List to JSON file**"
   ]
  },
  {
   "cell_type": "code",
   "execution_count": 10,
   "id": "96cbc1f6",
   "metadata": {},
   "outputs": [],
   "source": [
    "with open(CONSTANT_MARS_NEWS_JSON_FILE, 'w') as jsonFile:\n",
    "    \n",
    "    for dictionary in marsNewsDictionaryList:\n",
    "        \n",
    "        jsonDataString \\\n",
    "            = json \\\n",
    "                .dumps \\\n",
    "                    (dictionary)\n",
    "        \n",
    "        jsonFile \\\n",
    "            .write \\\n",
    "                (jsonDataString)\n",
    "        \n",
    "        \n",
    "    jsonFile \\\n",
    "        .close()"
   ]
  },
  {
   "cell_type": "markdown",
   "id": "c0fd594a",
   "metadata": {},
   "source": [
    "## **Close Browser**"
   ]
  },
  {
   "cell_type": "code",
   "execution_count": 11,
   "id": "e4d265e2",
   "metadata": {},
   "outputs": [],
   "source": [
    "chromeBrowserSplinterWebDriver \\\n",
    "    .quit()"
   ]
  },
  {
   "cell_type": "code",
   "execution_count": 12,
   "id": "25b36d53",
   "metadata": {},
   "outputs": [],
   "source": [
    "#log_subroutine \\\n",
    "#    .EndProgramExecution()"
   ]
  }
 ],
 "metadata": {
  "kernelspec": {
   "display_name": "Python 3 (ipykernel)",
   "language": "python",
   "name": "python3"
  },
  "language_info": {
   "codemirror_mode": {
    "name": "ipython",
    "version": 3
   },
   "file_extension": ".py",
   "mimetype": "text/x-python",
   "name": "python",
   "nbconvert_exporter": "python",
   "pygments_lexer": "ipython3",
   "version": "3.11.4"
  }
 },
 "nbformat": 4,
 "nbformat_minor": 5
}
